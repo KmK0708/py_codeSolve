{
  "nbformat": 4,
  "nbformat_minor": 0,
  "metadata": {
    "colab": {
      "provenance": []
    },
    "kernelspec": {
      "name": "python3",
      "display_name": "Python 3"
    },
    "language_info": {
      "name": "python"
    }
  },
  "cells": [
    {
      "cell_type": "markdown",
      "source": [
        "## 1.어떤 학생의 성적 데이터 (학생,성적데이터,과목명,숫자, 알파벳)\n",
        "## 2.성적 파일(txt) 저장\n",
        "## 3.txt 불러오기\n",
        "## 4.평균 평점 구하기\n",
        "## 5.txt 추가 저장\n"
      ],
      "metadata": {
        "id": "k6bw52NIspPs"
      }
    },
    {
      "cell_type": "code",
      "execution_count": 8,
      "metadata": {
        "id": "DqESJhl_soaC"
      },
      "outputs": [],
      "source": [
        "import random"
      ]
    },
    {
      "cell_type": "code",
      "source": [
        "# (1) 전공 과목에 대한 성적 데이터 생성\n",
        "def make_score_dict():\n",
        "    subjects = [\"컴퓨터학개론\", \"자료구조\", \"알고리즘\", \"선형대수학\", \"데이터베이스\"]\n",
        "    score_data = {}\n",
        "    for subject in subjects:\n",
        "        score_data[subject] = {\n",
        "            \"score\": random.randint(60, 100),\n",
        "            \"credit\": random.choice([2, 3])\n",
        "        }\n",
        "    return score_data"
      ],
      "metadata": {
        "id": "i7Ra2ULZszCz"
      },
      "execution_count": 9,
      "outputs": []
    },
    {
      "cell_type": "code",
      "source": [
        "# (2) 점수를 학점(gpa)으로 환산하는 함수\n",
        "def score_to_gpa(score):\n",
        "    if score >= 97:\n",
        "        return 4.5\n",
        "    elif score >= 94:\n",
        "        return 4.3\n",
        "    elif score >= 90:\n",
        "        return 4.0\n",
        "    elif score >= 87:\n",
        "        return 3.7\n",
        "    elif score >= 84:\n",
        "        return 3.3\n",
        "    elif score >= 80:\n",
        "        return 3.0\n",
        "    elif score >= 77:\n",
        "        return 2.7\n",
        "    elif score >= 74:\n",
        "        return 2.3\n",
        "    elif score >= 70:\n",
        "        return 2.0\n",
        "    elif score >= 67:\n",
        "        return 1.7\n",
        "    elif score >= 64:\n",
        "        return 1.3\n",
        "    elif score >= 60:\n",
        "        return 1.0\n",
        "    else:\n",
        "        return 0.0"
      ],
      "metadata": {
        "id": "jeihym-Ss-Rz"
      },
      "execution_count": 10,
      "outputs": []
    },
    {
      "cell_type": "code",
      "source": [
        "# (3) 평균 평점 계산 함수\n",
        "def calculate_gpa(student_data):\n",
        "    total_score = 0\n",
        "    total_credit = 0\n",
        "\n",
        "    for subject, info in student_data.items():\n",
        "        score = info[\"score\"]\n",
        "        credit = info[\"credit\"]\n",
        "        gpa = score_to_gpa(score)\n",
        "\n",
        "        total_score += gpa * credit\n",
        "        total_credit += credit\n",
        "\n",
        "        print(f\"{subject:<16} | Score: {score}, Credit: {credit}, GPA: {gpa}\")\n",
        "\n",
        "    if total_credit == 0:\n",
        "        return 0.0\n",
        "\n",
        "    return round(total_score / total_credit, 2)"
      ],
      "metadata": {
        "id": "XbP85RrFczXp"
      },
      "execution_count": 5,
      "outputs": []
    },
    {
      "cell_type": "code",
      "source": [
        "# (4) 실행\n",
        "student = make_score_dict()\n",
        "print(\"▶ 학생 성적 및 GPA 계산 결과:\")\n",
        "print(\"=\"*60)\n",
        "gpa = calculate_gpa(student)\n",
        "print(\"=\"*60)\n",
        "print(f\"▶ 최종 평균 평점 (GPA): {gpa}\")"
      ],
      "metadata": {
        "colab": {
          "base_uri": "https://localhost:8080/"
        },
        "id": "zBNHyI2ic1aJ",
        "outputId": "49ab37e7-f090-4388-9f18-f5e7b4965c72"
      },
      "execution_count": 11,
      "outputs": [
        {
          "output_type": "stream",
          "name": "stdout",
          "text": [
            "▶ 학생 성적 및 GPA 계산 결과:\n",
            "============================================================\n",
            "컴퓨터학개론           | Score: 60, Credit: 2, GPA: 1.0\n",
            "자료구조             | Score: 100, Credit: 3, GPA: 4.5\n",
            "알고리즘             | Score: 67, Credit: 2, GPA: 1.7\n",
            "선형대수학            | Score: 84, Credit: 3, GPA: 3.3\n",
            "데이터베이스           | Score: 90, Credit: 3, GPA: 4.0\n",
            "============================================================\n",
            "▶ 최종 평균 평점 (GPA): 3.14\n"
          ]
        }
      ]
    }
  ]
}