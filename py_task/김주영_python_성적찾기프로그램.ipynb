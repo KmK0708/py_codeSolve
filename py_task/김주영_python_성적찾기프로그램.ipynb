{
  "nbformat": 4,
  "nbformat_minor": 0,
  "metadata": {
    "colab": {
      "provenance": []
    },
    "kernelspec": {
      "name": "python3",
      "display_name": "Python 3"
    },
    "language_info": {
      "name": "python"
    }
  },
  "cells": [
    {
      "cell_type": "markdown",
      "source": [
        "성적 처리 코드\n",
        "---\n",
        "1학년 ~ 6학년 각 학년에는 5반이 있고 반에는 10명 씩</br>\n",
        "10명에 관해서 국어,영어,수학 점수가 존재합니다</br>\n",
        "국어 영어 수학의 점수는 랜덤하게 </br>\n",
        "(예시)원하는 것은?</br>\n",
        "1학년 국어 평균 점수를 알고싶을때 반환</br>\n",
        "2학년 수학 평균 점수를 알고싶을때 반환</br>\n",
        "몇학년 몇반 몇번의 국,영,수 점수 반환</br>\n",
        "\n",
        "위 저장한 성적을 하나의 '변수' 안에 저장해야한다..</br>\n",
        "조건은 dictionary 로 할것</br>\n",
        "국,영,수 성적은 랜덤으로 처리할것."
      ],
      "metadata": {
        "id": "XN5CH9jGYYNl"
      }
    },
    {
      "cell_type": "code",
      "source": [
        "import random"
      ],
      "metadata": {
        "id": "Swx1O0HbcjDr"
      },
      "execution_count": 40,
      "outputs": []
    },
    {
      "cell_type": "code",
      "source": [
        " # 각 학년,반,번호들의 국,영,수 점수 저장할 dictionary\n",
        "def make_Testscore_file_dict():\n",
        "  school = {}\n",
        "  for grade in range(1,7): # 1학년 ~ 6학년\n",
        "    school[grade] = {}\n",
        "    for group in range(1,6): # 1반 ~ 5반\n",
        "      school[grade][group] = {}\n",
        "      for number in range(1,11): # 1번 ~ 10번\n",
        "        school[grade][group][number] = {\"korean\":[],\"english\":[],\"math\":[]}\n",
        "  return school"
      ],
      "metadata": {
        "id": "e24KKksAhL7a"
      },
      "execution_count": 41,
      "outputs": []
    },
    {
      "cell_type": "code",
      "source": [
        "def random_Addtestscores():  # 각 학년, 반, 번호마다 랜덤으로 국,영,수 성적 생성\n",
        "  for grade in range(1,7):\n",
        "    for group in range(1,6):\n",
        "      for number in range(1,11):\n",
        "        school[grade][group][number][\"korean\"].append(random.randint(50, 100))\n",
        "        school[grade][group][number][\"english\"].append(random.randint(50, 100))\n",
        "        school[grade][group][number][\"math\"].append(random.randint(50, 100))"
      ],
      "metadata": {
        "id": "-PvBRkTfcovk"
      },
      "execution_count": 42,
      "outputs": []
    },
    {
      "cell_type": "code",
      "source": [
        "def find_student_score(school, inputvalue):\n",
        "  grade, group, number, subject = inputvalue.split(',')\n",
        "  grade = int(grade)\n",
        "  group = int(group)\n",
        "  number = int(number)\n",
        "\n",
        "  score_list = school[grade][group][number][subject]\n",
        "  print(f\"{grade}학년 {group}반 {number}번의 {subject} 점수: {score_list}\")"
      ],
      "metadata": {
        "id": "aFMfVPabqe34"
      },
      "execution_count": 43,
      "outputs": []
    },
    {
      "cell_type": "code",
      "source": [
        "def Average_grade_koreanScore(school, grade): # 학년 국어 평균 점수\n",
        "  totalscores = 0\n",
        "  count = 0\n",
        "  # 1학년 평균 국어 점수 1학년 전체의 국어 점수 총합 / 1학년 수\n",
        "  for group in school[grade]:\n",
        "    for number in school[grade][group]:\n",
        "      AverageScores = school[grade][group][number][\"korean\"]\n",
        "      totalscores += sum(AverageScores) # 국어점수 총합\n",
        "      count += len(AverageScores) # 국어점수 학생들\n",
        "\n",
        "  korAvg = totalscores/count\n",
        "  print(grade,\"학년 국어 평균 점수 : \",korAvg)\n",
        "\n"
      ],
      "metadata": {
        "id": "ZqlbydzBZ15r"
      },
      "execution_count": 44,
      "outputs": []
    },
    {
      "cell_type": "code",
      "source": [
        "def Average_grade_englishScore(school, grade): # 학년 영어 평균 점수\n",
        "  totalscores_eng = 0\n",
        "  count_eng = 0\n",
        "  # 1학년 평균 영어 점수 1학년 전체의 국어 점수 총합 / 1학년 수\n",
        "  for group in school[grade]:\n",
        "    for number in school[grade][group]:\n",
        "      engAverageScores = school[grade][group][number][\"english\"]\n",
        "      totalscores_eng += sum(engAverageScores) # 영어점수 총합\n",
        "      count_eng += len(engAverageScores) # 영어점수 학생들\n",
        "\n",
        "  engAvg = totalscores_eng/count_eng\n",
        "  print(grade,\"학년 영어 평균 점수 : \",engAvg)"
      ],
      "metadata": {
        "id": "BzJHSfXkehCj"
      },
      "execution_count": 45,
      "outputs": []
    },
    {
      "cell_type": "code",
      "source": [
        "def Average_grade_mathScore(school,grade): # 학년 수학 평균 점수\n",
        "  totalscores_math = 0\n",
        "  count_math = 0\n",
        "  # 1학년 평균 영어 점수 1학년 전체의 국어 점수 총합 / 1학년 수\n",
        "  for group in school[grade]:\n",
        "    for number in school[grade][group]:\n",
        "      mathAverageScores = school[grade][group][number][\"math\"]\n",
        "      totalscores_math += sum(mathAverageScores) # 수학점수 총합\n",
        "      count_math += len(mathAverageScores) # 수학점수 학생들\n",
        "\n",
        "  mathAvg = totalscores_math/count_math\n",
        "  print(grade,\"학년 수학 평균 점수 : \",mathAvg)"
      ],
      "metadata": {
        "id": "keBshYhCejMq"
      },
      "execution_count": 46,
      "outputs": []
    },
    {
      "cell_type": "code",
      "source": [
        "# 본문\n",
        "school = make_Testscore_file_dict()\n",
        "random_Addtestscores()\n",
        "\n",
        "Average_grade_englishScore(school,1)\n",
        "\n",
        "while(True):\n",
        "  print(\"학년 성적표 조회\")\n",
        "  print(\"1. 개인 성적 조회\")\n",
        "  print(\"2. 학년 과목 평균 점수 조회\")\n",
        "  print(\"3. 종료\")\n",
        "\n",
        "  menu = int(input(\"메뉴를 선택하세요 (1~3): \"))\n",
        "  if menu == 1:\n",
        "    user_input = input(\"찾으려는 학생의 학년 반 번호 과목 입력(예시:1,2,3,korean) : \")\n",
        "    find_student_score(school,user_input)\n",
        "\n",
        "  elif menu == 2:\n",
        "    subject = input(\"조회할 과목을 입력하세요 (예: korean, english, math): \")\n",
        "    if subject == \"korean\":\n",
        "      grade = int(input(\"조회할 학년을 입력하세요 (1~6) : \"))\n",
        "      Average_grade_koreanScore(school,grade)\n",
        "    elif subject == \"english\":\n",
        "      grade = int(input(\"조회할 학년을 입력하세요 (1~6) : \"))\n",
        "      Average_grade_englishScore(school,grade)\n",
        "    elif subject == \"math\":\n",
        "      grade = int(input(\"조회할 학년을 입력하세요 (1~6) : \"))\n",
        "      Average_grade_mathScore(school,grade)\n",
        "\n",
        "  elif menu == 3:\n",
        "    print(\"성적 조회를 종료합니다.\")\n",
        "    break\n",
        "\n",
        "  else:\n",
        "    print(\"유효하지 않는 번호 입니다. 올바른 번호(1~3)를 입력해주세요.\")\n",
        "\n",
        ""
      ],
      "metadata": {
        "id": "psmId_VfiH-a",
        "colab": {
          "base_uri": "https://localhost:8080/"
        },
        "outputId": "557ec740-7d48-4a5b-c75a-60383759ef2d"
      },
      "execution_count": 48,
      "outputs": [
        {
          "output_type": "stream",
          "name": "stdout",
          "text": [
            "1 학년 영어 평균 점수 :  74.78\n",
            "학년 성적표 조회\n",
            "1. 개인 성적 조회\n",
            "2. 학년 과목 평균 점수 조회\n",
            "3. 종료\n",
            "메뉴를 선택하세요 (1~3): 1\n",
            "찾으려는 학생의 학년 반 번호 과목 입력(예시:1,2,3,korean) : 1,3,3,korean\n",
            "1학년 3반 3번의 korean 점수: [93]\n",
            "학년 성적표 조회\n",
            "1. 개인 성적 조회\n",
            "2. 학년 과목 평균 점수 조회\n",
            "3. 종료\n",
            "메뉴를 선택하세요 (1~3): 1\n",
            "찾으려는 학생의 학년 반 번호 과목 입력(예시:1,2,3,korean) : 1,3,3,korean\n",
            "1학년 3반 3번의 korean 점수: [93]\n",
            "학년 성적표 조회\n",
            "1. 개인 성적 조회\n",
            "2. 학년 과목 평균 점수 조회\n",
            "3. 종료\n",
            "메뉴를 선택하세요 (1~3): 1\n",
            "찾으려는 학생의 학년 반 번호 과목 입력(예시:1,2,3,korean) : 1,2,3,korean\n",
            "1학년 2반 3번의 korean 점수: [95]\n",
            "학년 성적표 조회\n",
            "1. 개인 성적 조회\n",
            "2. 학년 과목 평균 점수 조회\n",
            "3. 종료\n",
            "메뉴를 선택하세요 (1~3): 1\n",
            "찾으려는 학생의 학년 반 번호 과목 입력(예시:1,2,3,korean) : 1,2,2,korean\n",
            "1학년 2반 2번의 korean 점수: [62]\n",
            "학년 성적표 조회\n",
            "1. 개인 성적 조회\n",
            "2. 학년 과목 평균 점수 조회\n",
            "3. 종료\n",
            "메뉴를 선택하세요 (1~3): 2\n",
            "조회할 과목을 입력하세요 (예: korean, english, math): math\n",
            "조회할 학년을 입력하세요 (1~6) : 5\n",
            "5 학년 수학 평균 점수 :  73.8\n",
            "학년 성적표 조회\n",
            "1. 개인 성적 조회\n",
            "2. 학년 과목 평균 점수 조회\n",
            "3. 종료\n",
            "메뉴를 선택하세요 (1~3): 3\n",
            "성적 조회를 종료합니다.\n"
          ]
        }
      ]
    }
  ]
}