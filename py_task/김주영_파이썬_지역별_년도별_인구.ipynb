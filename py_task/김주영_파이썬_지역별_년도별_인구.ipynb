{
 "cells": [
  {
   "cell_type": "markdown",
   "metadata": {
    "id": "Oh28RZ3HBiBp"
   },
   "source": [
    "1 - 1번 문제 서울,경북,경남... 등 1970 1980 1990...\n",
    "\n",
    "10년단위로 인구수를 랜덤으로 넣어서 표로 만들어라.\n",
    "\n",
    "그리고 그 인구수를 다 더해서 총 년도별 총 인구수를 반환해라.\n",
    "\n",
    "1 - 2번 문제 년도별 지역별 인구 변화를 뽑아내라 감소했는지 증가했는지\n"
   ]
  },
  {
   "cell_type": "code",
   "execution_count": 41,
   "metadata": {
    "colab": {
     "base_uri": "https://localhost:8080/"
    },
    "id": "lSU0UBAqBfS7",
    "outputId": "e758fc74-64de-4610-f003-d841af425b9d"
   },
   "outputs": [
    {
     "name": "stdout",
     "output_type": "stream",
     "text": [
      "{'서울': {1970: 665915, 1980: 3101816, 1990: 929141, 2000: 2842762, 2010: 1859243, 2020: 2981007}, '경기': {1970: 2120135, 1980: 975865, 1990: 2750805, 2000: 2586303, 2010: 2599193, 2020: 2470807}, '강원': {1970: 3476790, 1980: 3266490, 1990: 3065433, 2000: 3326866, 2010: 1559883, 2020: 1871105}, '충북': {1970: 1026979, 1980: 694781, 1990: 1697633, 2000: 1105660, 2010: 2898873, 2020: 843882}, '충남': {1970: 1125237, 1980: 863986, 1990: 2758204, 2000: 1269512, 2010: 3053636, 2020: 3321052}, '경북': {1970: 850359, 1980: 2448326, 1990: 2756199, 2000: 452466, 2010: 2978488, 2020: 794825}, '경남': {1970: 2565057, 1980: 1099279, 1990: 2780519, 2000: 2173492, 2010: 3097180, 2020: 2117663}, '전북': {1970: 2534755, 1980: 3159154, 1990: 1603625, 2000: 2949884, 2010: 853054, 2020: 3487814}, '전남': {1970: 2612947, 1980: 1833394, 1990: 2111166, 2000: 626127, 2010: 1543336, 2020: 1782998}}\n",
      "19671153\n"
     ]
    }
   ],
   "source": [
    "import random\n",
    "#최소 인구수\n",
    "minUnits = 400000\n",
    "#최대 인구수\n",
    "maxUnits = 3500000\n",
    "# 지역 리스트\n",
    "regions = ['서울','경기','강원','충북','충남','경북','경남','전북','전남']\n",
    "# 년도 리스트\n",
    "years = list(range(1970,2021,10))\n",
    "\n",
    "# 인구 데이터 생성 저장 딕셔너리\n",
    "population_unit = {}\n",
    "#지역별로 인구 데이터\n",
    "for region in regions:  # 지역 리스트를\n",
    "  population_unit[region] = {} # 지역 딕셔너리\n",
    "  for year in years: # 연도별 리스트\n",
    "    randUnits = random.randint(minUnits,maxUnits)\n",
    "    population_unit[region][year] = randUnits\n",
    "\n",
    "print(population_unit)\n",
    "\n",
    "# 연도별 총 인구수 1970년대 에 있는 지역인구수를 다 더해야한다.\n",
    "total_population_per_year = {}\n",
    "# 모든 연도에 대해 합산\n",
    "for year in years:\n",
    "  total = 0\n",
    "  for region in regions:\n",
    "      total += population_unit[region][year]\n",
    "  total_population_per_year[year] = total\n",
    "\n",
    "# 출력\n",
    "print(total_population_per_year[year])\n",
    "\n"
   ]
  },
  {
   "cell_type": "code",
   "execution_count": null,
   "metadata": {
    "id": "Dw8dA3BnH-T3"
   },
   "outputs": [],
   "source": []
  }
 ],
 "metadata": {
  "colab": {
   "provenance": []
  },
  "kernelspec": {
   "display_name": "Python 3",
   "name": "python3"
  },
  "language_info": {
   "name": "python"
  }
 },
 "nbformat": 4,
 "nbformat_minor": 0
}
