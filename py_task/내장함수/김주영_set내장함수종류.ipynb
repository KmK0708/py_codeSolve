{
  "nbformat": 4,
  "nbformat_minor": 0,
  "metadata": {
    "colab": {
      "provenance": []
    },
    "kernelspec": {
      "name": "python3",
      "display_name": "Python 3"
    },
    "language_info": {
      "name": "python"
    }
  },
  "cells": [
    {
      "cell_type": "markdown",
      "source": [
        "# Set 내장함수\n",
        "<style>\n",
        "    table {\n",
        "        width: 100% !important;  /* 표를 전체 너비로 확장 */\n",
        "        table-layout: auto; /* 셀 크기를 자동으로 조정 */\n",
        "        word-wrap: break-word;\n",
        "        white-space: normal; /* 텍스트가 자동으로 줄 바뀌지 않도록 설정 */\n",
        "    }\n",
        "    th, td {\n",
        "        padding: 15px;\n",
        "        border: 1px solid white;\n",
        "    }\n",
        "</style>\n",
        "\n",
        "# **SET 내장함수 설명과 예시**\n",
        "\n",
        "\n",
        "---\n",
        "\n",
        "\n",
        "add(x)\t집합에 요소 x 추가\n",
        "\n",
        "---\n",
        "\n",
        "\n",
        "\n",
        "remove(x)\t요소 x 제거 (없으면 오류 발생)\n",
        "\n",
        "---\n",
        "\n",
        "\n",
        "\n",
        "discard(x)\t요소 x 제거 (없어도 오류 없음)\n",
        "\n",
        "---\n",
        "\n",
        "\n",
        "\n",
        "pop()\t임의의 요소 제거 후 반환 (순서 보장 X)\n",
        "\n",
        "---\n",
        "\n",
        "\n",
        "\n",
        "clear()\t모든 요소 제거\n",
        "\n",
        "---\n",
        "\n",
        "\n",
        "\n",
        "copy()\t: 집합을 복사하여 새 집합을 반환.\n",
        "\n",
        "---\n",
        "\n",
        "\n",
        "\n",
        "all()   :  반복 가능한 객체의 모든 요소가 True인지 확인\n",
        "\n",
        "---\n",
        "\n",
        "\n",
        "\n",
        "any()\t: 반복 가능한 객체의 요소 중 하나라도 Ture면 true 반환\n",
        "\n",
        "---\n",
        "\n",
        "\n",
        "\n",
        "enumerate()\t: (index, value) 형태로 반환하는 객체 생성 (순서 랜덤)\n",
        "\n",
        "---\n",
        "\n",
        "\n",
        "\n",
        "len()\t: 집합의 크기 반환  .\n",
        "\n",
        "---\n",
        "\n",
        "\n",
        "\n",
        "max()\t:  집합에서 가장 큰 데이터 반환\n",
        "\n",
        "---\n",
        "\n",
        "\n",
        "\n",
        "min()\t: 집합에서 가장 작은 데이터 반환.\n",
        "\n",
        "---\n",
        "\n",
        "\n",
        "\n",
        "sorted()\t:  값들을 정렬.\n",
        "\n",
        "---\n",
        "\n",
        "\n",
        "\n",
        "sum()\t: 집합의 숫자 요소 합을 반환.\n",
        "\n",
        "---\n",
        "\n",
        "\n",
        "\n",
        "| **difference()**                |두 개 이상의 집합의 차집합을 새로운 집합으로 반환 |\n",
        "\n",
        "---\n",
        "\n",
        "\n",
        "\n",
        "| **difference_update()**         |다른 집합의 모든 요소를 현재 집합에서 제거|\n",
        "\n",
        "---\n",
        "\n",
        "\n",
        "\n",
        "| **intersection()**              | 두 집합의 교집합을 반환|\n",
        "\n",
        "---\n",
        "\n",
        "\n",
        "\n",
        "| **intersection_update()**       |둘 이상 set에서 공통요소 아닌 요소를 제거 |\n",
        "\n",
        "---\n",
        "\n",
        "\n",
        "\n",
        "| **intersection_update()**       |둘 이상 set에서 공통요소 아닌 요소를 제거 |\n",
        "\n",
        "---\n",
        "\n",
        " **isdisjoint()**                |  두 집합이 공통 요소가 없는지 확인 |\n",
        "\n",
        " ---\n",
        "\n",
        "| **issubset()**                  | 집합이 다른 집합에 포함되는지 확인|\n",
        "\n",
        " ---\n",
        "\n",
        "| **issuperset()**                | 집합이 다른 집합을 포함하면 True를 반환 |\n",
        "\n",
        " ---\n",
        "\n",
        "| **symmetric_difference()**      | 두 집합에서 공통되지 않는 요소들만 포함하는 새로운 집합을 반환|\n",
        "\n",
        " ---\n",
        "\n",
        "| **symmetric_difference_update()** | 두 집합에서 공통되는 요소를 제거하고, 나머지 요소들로 현재 집합을 갱신 |\n",
        "\n",
        " ---\n",
        "\n",
        "| **union()**                     |여러 집합의 합집합을 새로운 집합으로 반환|\n",
        "\n",
        " ---\n",
        "\n",
        "| **update()**                    | 현재 집합에 다른 집합의 요소를 추가하여 합집합으로 만듬 |\n",
        "\n",
        " ---\n",
        "\n",
        "\n",
        "\n",
        " ---"
      ],
      "metadata": {
        "id": "9O1fDwGLO3Xe"
      }
    },
    {
      "cell_type": "code",
      "source": [
        "# add() 요소 추가\n",
        "\n",
        "s1 = {1,2}\n",
        "\n",
        "s1.add(3);\n",
        "\n",
        "print(s1)  # {1,2,3}"
      ],
      "metadata": {
        "colab": {
          "base_uri": "https://localhost:8080/"
        },
        "id": "04U-6-_dNQLu",
        "outputId": "e5e2a5f5-650f-4919-d9eb-36f4ee49fb2f"
      },
      "execution_count": null,
      "outputs": [
        {
          "output_type": "stream",
          "name": "stdout",
          "text": [
            "{1, 2, 3}\n"
          ]
        }
      ]
    },
    {
      "cell_type": "code",
      "source": [
        "# remove() 요소 제거 (없으면 오류)"
      ],
      "metadata": {
        "id": "w_jZw_YSvmZa"
      },
      "execution_count": null,
      "outputs": []
    },
    {
      "cell_type": "code",
      "source": [
        "s1 = {1,2,3}\n",
        "s1.remove(2)\n",
        "print(s1) # s1 = {1,3}\n",
        "\n",
        "s1 = {1,2,3}\n",
        "s1.remove(4)\n",
        "print(s1)"
      ],
      "metadata": {
        "id": "HytwS4M8xIRo",
        "colab": {
          "base_uri": "https://localhost:8080/",
          "height": 211
        },
        "outputId": "4e59e9dd-282f-4ed1-ed97-214a6d7d6c6f"
      },
      "execution_count": null,
      "outputs": [
        {
          "output_type": "stream",
          "name": "stdout",
          "text": [
            "{1, 3}\n"
          ]
        },
        {
          "output_type": "error",
          "ename": "KeyError",
          "evalue": "4",
          "traceback": [
            "\u001b[0;31m---------------------------------------------------------------------------\u001b[0m",
            "\u001b[0;31mKeyError\u001b[0m                                  Traceback (most recent call last)",
            "\u001b[0;32m<ipython-input-7-8e921aba0251>\u001b[0m in \u001b[0;36m<cell line: 0>\u001b[0;34m()\u001b[0m\n\u001b[1;32m      4\u001b[0m \u001b[0;34m\u001b[0m\u001b[0m\n\u001b[1;32m      5\u001b[0m \u001b[0ms1\u001b[0m \u001b[0;34m=\u001b[0m \u001b[0;34m{\u001b[0m\u001b[0;36m1\u001b[0m\u001b[0;34m,\u001b[0m\u001b[0;36m2\u001b[0m\u001b[0;34m,\u001b[0m\u001b[0;36m3\u001b[0m\u001b[0;34m}\u001b[0m\u001b[0;34m\u001b[0m\u001b[0;34m\u001b[0m\u001b[0m\n\u001b[0;32m----> 6\u001b[0;31m \u001b[0ms1\u001b[0m\u001b[0;34m.\u001b[0m\u001b[0mremove\u001b[0m\u001b[0;34m(\u001b[0m\u001b[0;36m4\u001b[0m\u001b[0;34m)\u001b[0m\u001b[0;34m\u001b[0m\u001b[0;34m\u001b[0m\u001b[0m\n\u001b[0m\u001b[1;32m      7\u001b[0m \u001b[0mprint\u001b[0m\u001b[0;34m(\u001b[0m\u001b[0ms1\u001b[0m\u001b[0;34m)\u001b[0m\u001b[0;34m\u001b[0m\u001b[0;34m\u001b[0m\u001b[0m\n",
            "\u001b[0;31mKeyError\u001b[0m: 4"
          ]
        }
      ]
    },
    {
      "cell_type": "code",
      "source": [
        "# discard() (없어도 오류 없음)\n",
        "s1 = {1,2,3}\n",
        "s1.discard(4)\n",
        "print(s1)\n",
        "\n",
        "s2 = {1,2,3}\n",
        "s2.discard(3)\n",
        "print(s2)"
      ],
      "metadata": {
        "colab": {
          "base_uri": "https://localhost:8080/"
        },
        "id": "5Z70OWEt3G8R",
        "outputId": "38d144e6-142a-4225-c183-02d8c2b990fa"
      },
      "execution_count": null,
      "outputs": [
        {
          "output_type": "stream",
          "name": "stdout",
          "text": [
            "{1, 2, 3}\n",
            "{1, 2}\n"
          ]
        }
      ]
    },
    {
      "cell_type": "code",
      "source": [
        "# pop() 임의의 요소 제거 후 반환\n",
        "s1 = {1,2,3}\n",
        "x = s1.pop()\n",
        "print(x,s1)  #  x 로 1이 임의로 제거"
      ],
      "metadata": {
        "colab": {
          "base_uri": "https://localhost:8080/"
        },
        "id": "yLnF_YxU6g-5",
        "outputId": "2149dc2c-7279-48c3-a0fe-afca789787e6"
      },
      "execution_count": null,
      "outputs": [
        {
          "output_type": "stream",
          "name": "stdout",
          "text": [
            "1 {2, 3}\n"
          ]
        }
      ]
    },
    {
      "cell_type": "code",
      "source": [
        "# clear() 모든 요소 제거\n",
        "s1 = {1,2,3,4}\n",
        "s1.clear()\n",
        "print(s1) # set()"
      ],
      "metadata": {
        "colab": {
          "base_uri": "https://localhost:8080/"
        },
        "id": "T959ko1sqJUN",
        "outputId": "3a2aa712-d637-4693-ca7e-1abc43c7e386"
      },
      "execution_count": null,
      "outputs": [
        {
          "output_type": "stream",
          "name": "stdout",
          "text": [
            "set()\n"
          ]
        }
      ]
    },
    {
      "cell_type": "code",
      "source": [
        "# copy() 새 집합을 복사 하여 반환\n",
        "s1 = {1,2,3,4}\n",
        "s2 = s1.copy()\n",
        "\n",
        "print(s2) #{1,2,3,4}\n"
      ],
      "metadata": {
        "colab": {
          "base_uri": "https://localhost:8080/"
        },
        "id": "Ap9G_Rewqb50",
        "outputId": "3d0c5123-9437-444f-f6ff-93dc9599e74f"
      },
      "execution_count": null,
      "outputs": [
        {
          "output_type": "stream",
          "name": "stdout",
          "text": [
            "{1, 2, 3, 4}\n"
          ]
        }
      ]
    },
    {
      "cell_type": "code",
      "source": [
        "# all() 반복 가능한 객체의 모든 요소가 true인지 확인 하나라도 아니면 false\n",
        "s1 = {1,2,3,4}\n",
        "print(all(s1)) # true\n",
        "\n",
        "s2 = {0,3,3}\n",
        "print(all(s2)) # false"
      ],
      "metadata": {
        "colab": {
          "base_uri": "https://localhost:8080/"
        },
        "id": "S5WjzDPzq1Mm",
        "outputId": "d36a4c15-8d7a-4ff7-9e19-51e5d72ff069"
      },
      "execution_count": null,
      "outputs": [
        {
          "output_type": "stream",
          "name": "stdout",
          "text": [
            "True\n",
            "False\n"
          ]
        }
      ]
    },
    {
      "cell_type": "code",
      "source": [
        "# any() 객체의 값중 하나라도 true 면 true\n",
        "s1 = {0,0,0,3}\n",
        "print(any(s1))\n",
        "\n",
        "s2 = {0,False,\"\"}\n",
        "print(any(s2))"
      ],
      "metadata": {
        "colab": {
          "base_uri": "https://localhost:8080/"
        },
        "id": "CJuCkWRLt6Wu",
        "outputId": "5e9926ce-7a7d-4844-cbd3-410b37522b12"
      },
      "execution_count": null,
      "outputs": [
        {
          "output_type": "stream",
          "name": "stdout",
          "text": [
            "True\n",
            "False\n"
          ]
        }
      ]
    },
    {
      "cell_type": "code",
      "source": [
        "# enumerate() 반복 가능한 객체의 값을 순회하면서 각 값과 해당 값의 인덱스를 함께 반환\n",
        "s1 = {'가','나','다','라'}\n",
        "for idx, value in enumerate(s1):\n",
        "  print(idx,value)"
      ],
      "metadata": {
        "colab": {
          "base_uri": "https://localhost:8080/"
        },
        "id": "5w2NLl_rvS7d",
        "outputId": "a4a77816-fd2a-4e0e-dad3-d5175ea533aa"
      },
      "execution_count": null,
      "outputs": [
        {
          "output_type": "stream",
          "name": "stdout",
          "text": [
            "0 가\n",
            "1 나\n",
            "2 다\n",
            "3 라\n"
          ]
        }
      ]
    },
    {
      "cell_type": "code",
      "source": [
        "# len 객체의 길이(값의 수)를 반환\n",
        "s1 = {1,2,3,4,5,6,7,8}\n",
        "print(len(s1)) # 8"
      ],
      "metadata": {
        "colab": {
          "base_uri": "https://localhost:8080/"
        },
        "id": "-uXT-yr1wG2l",
        "outputId": "55e2d542-3a36-4743-a0fe-02884e650332"
      },
      "execution_count": null,
      "outputs": [
        {
          "output_type": "stream",
          "name": "stdout",
          "text": [
            "8\n"
          ]
        }
      ]
    },
    {
      "cell_type": "code",
      "source": [
        "# max 집합에서 가장 큰 수 반환\n",
        "s1 = {2,3,4,99}\n",
        "print(max(s1)) # 99"
      ],
      "metadata": {
        "colab": {
          "base_uri": "https://localhost:8080/"
        },
        "id": "R45ZEeZbwhmO",
        "outputId": "05697031-176b-4904-f643-07decd9724e4"
      },
      "execution_count": null,
      "outputs": [
        {
          "output_type": "stream",
          "name": "stdout",
          "text": [
            "99\n"
          ]
        }
      ]
    },
    {
      "cell_type": "code",
      "source": [
        "# min 가장 작은 수 반환\n",
        "s1 = {55,44,21,1}\n",
        "print(min(s1)) # 1"
      ],
      "metadata": {
        "colab": {
          "base_uri": "https://localhost:8080/"
        },
        "id": "XYwWR6Atw8MV",
        "outputId": "92892f38-3836-4bf6-cefe-a8bca780f49f"
      },
      "execution_count": null,
      "outputs": [
        {
          "output_type": "stream",
          "name": "stdout",
          "text": [
            "1\n"
          ]
        }
      ]
    },
    {
      "cell_type": "code",
      "source": [
        "# sorted 집합의 값을 정렬\n",
        "s1 = {88,33,1,3}\n",
        "print(sorted(s1)) # 1,2,33,88"
      ],
      "metadata": {
        "colab": {
          "base_uri": "https://localhost:8080/"
        },
        "id": "6ARylyDpxGkR",
        "outputId": "2a09fb6f-26f2-43b9-ba22-fefe4bcd57f2"
      },
      "execution_count": null,
      "outputs": [
        {
          "output_type": "stream",
          "name": "stdout",
          "text": [
            "[1, 3, 33, 88]\n"
          ]
        }
      ]
    },
    {
      "cell_type": "code",
      "source": [
        "# sum 집합의 숫자 요소의 합 반환\n",
        "s1 = {3,4,5,10}\n",
        "print(sum(s1)) # 3+4+5+10 = 22"
      ],
      "metadata": {
        "colab": {
          "base_uri": "https://localhost:8080/"
        },
        "id": "obhhLq2RxXWz",
        "outputId": "ceaafecf-3d3b-49d6-9bb4-b1685b410761"
      },
      "execution_count": null,
      "outputs": [
        {
          "output_type": "stream",
          "name": "stdout",
          "text": [
            "22\n"
          ]
        }
      ]
    },
    {
      "cell_type": "code",
      "source": [
        "# difference |두 개 이상의 집합의 차집합을 새로운 집합으로 반환 |\n",
        "s1 = {1,2,3}\n",
        "s2 = {3,4,5}\n",
        "\n",
        "print(s1.difference(s2)) # {1,2}"
      ],
      "metadata": {
        "colab": {
          "base_uri": "https://localhost:8080/"
        },
        "id": "-9BgSU_YH5_S",
        "outputId": "8289ed8f-a71f-4e3d-b62f-5d240cd3b68c"
      },
      "execution_count": null,
      "outputs": [
        {
          "output_type": "stream",
          "name": "stdout",
          "text": [
            "{1, 2}\n"
          ]
        }
      ]
    },
    {
      "cell_type": "code",
      "source": [
        "# difference_update() |다른 집합의 모든 요소를 현재 집합에서 제거|\n",
        "s1 = {3,4,5}\n",
        "s2 = {1,3,5}\n",
        "s1.difference_update(s2)\n",
        "print(s1) # {4}"
      ],
      "metadata": {
        "colab": {
          "base_uri": "https://localhost:8080/"
        },
        "id": "qBgCYZIPIh57",
        "outputId": "e671ab70-ac9f-4480-954d-08f1b1d284b7"
      },
      "execution_count": null,
      "outputs": [
        {
          "output_type": "stream",
          "name": "stdout",
          "text": [
            "{4}\n"
          ]
        }
      ]
    },
    {
      "cell_type": "code",
      "source": [
        "#  intersection() | 두 집합의 교집합을 반환|\n",
        "s1 = {3,4,5}\n",
        "s2 = {1,3,5,9}\n",
        "\n",
        "print(s1.intersection(s2)) #{3,5}"
      ],
      "metadata": {
        "colab": {
          "base_uri": "https://localhost:8080/"
        },
        "id": "4YOVdtR1JHwS",
        "outputId": "881e6436-2f85-49ae-d579-b942e80b2200"
      },
      "execution_count": null,
      "outputs": [
        {
          "output_type": "stream",
          "name": "stdout",
          "text": [
            "{3, 5}\n"
          ]
        }
      ]
    },
    {
      "cell_type": "code",
      "source": [
        "#  intersection_update() |둘 이상 set에서 공통요소 아닌 요소를 제거 |\n",
        "s1 = {3,4,5}\n",
        "s2 = {5,7,8}\n",
        "s1.intersection_update(s2)\n",
        "print(s1) # 5"
      ],
      "metadata": {
        "colab": {
          "base_uri": "https://localhost:8080/"
        },
        "id": "WZ8TEhSyJbqS",
        "outputId": "24c9e5d6-bee5-4ed3-a669-46b44bbd6f5e"
      },
      "execution_count": null,
      "outputs": [
        {
          "output_type": "stream",
          "name": "stdout",
          "text": [
            "{5}\n"
          ]
        }
      ]
    },
    {
      "cell_type": "code",
      "source": [
        "# isdisjoint() | 두 집합이 공통 요소가 없는지 확인 |\n",
        "s1 = {3,4,5}\n",
        "s2 = {1,3,7}\n",
        "\n",
        "print(s1.isdisjoint(s2))  # 있으면 False\n",
        "\n",
        "s3 = {3,5,7}\n",
        "s4 = {4,8,9}\n",
        "\n",
        "print(s3.isdisjoint(s4)) # 없으면 true"
      ],
      "metadata": {
        "colab": {
          "base_uri": "https://localhost:8080/"
        },
        "id": "sJftPbuRKP2x",
        "outputId": "b3796c6f-e54e-4110-e2f5-9e0ec38c0d58"
      },
      "execution_count": null,
      "outputs": [
        {
          "output_type": "stream",
          "name": "stdout",
          "text": [
            "False\n",
            "True\n"
          ]
        }
      ]
    },
    {
      "cell_type": "code",
      "source": [
        "#  issubset() | 집합이 다른 집합에 포함되는지 확인|\n",
        "s1 = {3,4,5}\n",
        "s2 = {1,2,3,4,5}\n",
        "\n",
        "print(s1.issubset(s2)) # true"
      ],
      "metadata": {
        "colab": {
          "base_uri": "https://localhost:8080/"
        },
        "id": "O1oeyNCNK0si",
        "outputId": "876c6aaa-17df-4131-aa19-894ab0df0905"
      },
      "execution_count": null,
      "outputs": [
        {
          "output_type": "stream",
          "name": "stdout",
          "text": [
            "True\n"
          ]
        }
      ]
    },
    {
      "cell_type": "code",
      "source": [
        "# issuperset() | 집합이 다른 집합을 포함하면 True를 반환 |\n",
        "s1 = {3,4,5,6,7}\n",
        "s2 = {5,6,7}\n",
        "\n",
        "print(s1.issuperset(s2)) # true\n",
        "print(s2.issuperset(s1)) # false"
      ],
      "metadata": {
        "colab": {
          "base_uri": "https://localhost:8080/"
        },
        "id": "rYVIGHfQLHFJ",
        "outputId": "5c613193-9702-49e3-b51c-2ecb98a50813"
      },
      "execution_count": null,
      "outputs": [
        {
          "output_type": "stream",
          "name": "stdout",
          "text": [
            "True\n",
            "False\n"
          ]
        }
      ]
    },
    {
      "cell_type": "code",
      "source": [
        "#  symmetric_difference() | 두 집합에서 공통되지 않는 요소들만 포함하는 새로운 집합을 반환|\n",
        "s1 = {3,4,5,6}\n",
        "s2 = {3,5,7,9,15}\n",
        "\n",
        "print(s1.symmetric_difference(s2)) # {4,6,7,9,15}"
      ],
      "metadata": {
        "colab": {
          "base_uri": "https://localhost:8080/"
        },
        "id": "sB-t-kwcnu0u",
        "outputId": "0c8b8fa6-48f8-4dcf-9bb0-8f466246ba99"
      },
      "execution_count": 4,
      "outputs": [
        {
          "output_type": "stream",
          "name": "stdout",
          "text": [
            "{4, 6, 7, 9, 15}\n"
          ]
        }
      ]
    },
    {
      "cell_type": "code",
      "source": [
        "# symmetric_difference_update() | 두 집합에서 공통되는 요소를 제거하고, 나머지 요소들로 현재 집합을 갱신 |\n",
        "s1 = {3,5,7}\n",
        "s2 = {5,7,15}\n",
        "\n",
        "s1.symmetric_difference_update(s2)\n",
        "\n",
        "print(s1) # {3,15}"
      ],
      "metadata": {
        "colab": {
          "base_uri": "https://localhost:8080/"
        },
        "id": "OS83VFuOoYe2",
        "outputId": "4799b15a-091f-42c3-a456-28175f29e9c2"
      },
      "execution_count": 15,
      "outputs": [
        {
          "output_type": "stream",
          "name": "stdout",
          "text": [
            "{3, 15}\n"
          ]
        }
      ]
    },
    {
      "cell_type": "code",
      "source": [
        "# union() |여러 집합의 합집합을 새로운 집합으로 반환|\n",
        "s1 = {1,2,3}\n",
        "s2 = {4,5,6}\n",
        "\n",
        "print(s1.union(s2)) #{1,2,3,4,5,6}"
      ],
      "metadata": {
        "colab": {
          "base_uri": "https://localhost:8080/"
        },
        "id": "7YUP1n1KqIbm",
        "outputId": "1c27475e-ac67-4d85-80e5-a840ee1fe930"
      },
      "execution_count": 13,
      "outputs": [
        {
          "output_type": "stream",
          "name": "stdout",
          "text": [
            "{1, 2, 3, 4, 5, 6}\n"
          ]
        }
      ]
    },
    {
      "cell_type": "code",
      "source": [
        "# update() | 현재 집합에 다른 집합의 요소를 추가하여 합집합으로 만듬 |\n",
        "s1 = {1,2,3}\n",
        "s2 = {4,5,6}\n",
        "\n",
        "s1.update(s2)\n",
        "\n",
        "print(s1) #1,2,3,4,5,6"
      ],
      "metadata": {
        "colab": {
          "base_uri": "https://localhost:8080/"
        },
        "id": "Up9l3yeusAmV",
        "outputId": "c35ba808-9adb-4997-a216-04c265dcf21e"
      },
      "execution_count": 20,
      "outputs": [
        {
          "output_type": "stream",
          "name": "stdout",
          "text": [
            "{1, 2, 3, 4, 5, 6}\n"
          ]
        }
      ]
    },
    {
      "cell_type": "code",
      "source": [],
      "metadata": {
        "id": "LBAq6l8wuwFP"
      },
      "execution_count": null,
      "outputs": []
    }
  ]
}